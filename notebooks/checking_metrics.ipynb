{
 "cells": [
  {
   "cell_type": "code",
   "execution_count": 1,
   "metadata": {
    "collapsed": true
   },
   "outputs": [],
   "source": [
    "from arpy import *\n",
    "ALLOWED_0i =['p', '23', '31', '12', '0', '023', '031', '012',\n",
    "             '123', '1', '2', '3', '0123', '01', '02', '03']"
   ]
  },
  {
   "cell_type": "markdown",
   "metadata": {},
   "source": [
    "## Sign distributions for given combinations of metric and allowed values"
   ]
  },
  {
   "cell_type": "markdown",
   "metadata": {},
   "source": [
    "### i0 +---"
   ]
  },
  {
   "cell_type": "code",
   "execution_count": 2,
   "metadata": {
    "collapsed": false
   },
   "outputs": [
    {
     "name": "stdout",
     "output_type": "stream",
     "text": [
      "Full Product\n",
      " ∂b |□ □ □ □|  ∂Ξ |□ □ □ □|   ∇ |□ □ ■ □|  ∇• |■ ■ □ ■|  ∇x |□ □ □ □| \n",
      "    |□ □ □ □|     |□ □ ■ ■|     |□ □ □ ■|     |■ ■ □ ■|     |□ □ ■ ■| \n",
      "    |□ ■ □ ■|     |■ ■ ■ ■|     |□ □ ■ □|     |□ ■ ■ ■|     |□ □ □ □| \n",
      "    |□ ■ □ ■|     |□ □ ■ ■|     |□ □ □ ■|     |■ □ □ □|     |□ □ ■ ■| \n",
      "\n",
      "Division Into\n",
      " ∂b |□ □ □ □|  ∂Ξ |□ □ □ □|   ∇ |■ ■ □ ■|  ∇• |□ □ ■ □|  ∇x |■ ■ ■ ■| \n",
      "    |□ □ □ □|     |□ □ ■ ■|     |■ ■ ■ □|     |□ □ ■ □|     |■ ■ □ □| \n",
      "    |□ ■ □ ■|     |■ ■ ■ ■|     |■ ■ □ ■|     |■ □ □ □|     |■ ■ ■ ■| \n",
      "    |■ □ ■ □|     |■ ■ □ □|     |□ □ □ ■|     |■ □ □ □|     |□ □ ■ ■| \n",
      "\n",
      "Division By\n",
      " ∂b |□ □ □ ■|  ∂Ξ |■ ■ ■ □|   ∇ |□ □ ■ ■|  ∇• |□ □ ■ ■|  ∇x |■ ■ ■ □| \n",
      "    |□ □ □ ■|     |■ ■ □ ■|     |□ □ □ □|     |□ □ ■ ■|     |■ ■ □ ■| \n",
      "    |□ ■ □ □|     |□ □ □ ■|     |□ □ ■ ■|     |■ □ □ ■|     |■ ■ ■ □| \n",
      "    |□ ■ □ □|     |■ ■ □ ■|     |□ □ □ □|     |□ ■ ■ □|     |■ ■ □ ■| \n"
     ]
    }
   ],
   "source": [
    "print('Full Product')\n",
    "sign_distribution(full, metric=(1, -1, -1, -1), allowed=ALLOWED)\n",
    "print('\\nDivision Into')\n",
    "sign_distribution(div_into, metric=(1, -1, -1, -1), allowed=ALLOWED)\n",
    "print('\\nDivision By')\n",
    "sign_distribution(div_by, metric=(1, -1, -1, -1), allowed=ALLOWED)"
   ]
  },
  {
   "cell_type": "markdown",
   "metadata": {},
   "source": [
    "### i0 -+++"
   ]
  },
  {
   "cell_type": "code",
   "execution_count": 3,
   "metadata": {
    "collapsed": false
   },
   "outputs": [
    {
     "name": "stdout",
     "output_type": "stream",
     "text": [
      "Full Product\n",
      " ∂b |□ □ □ □|  ∂Ξ |□ □ □ □|   ∇ |□ □ ■ □|  ∇• |■ ■ □ ■|  ∇x |■ ■ ■ ■| \n",
      "    |□ ■ □ ■|     |□ ■ ■ □|     |□ ■ □ □|     |■ □ □ □|     |■ □ □ ■| \n",
      "    |□ ■ ■ □|     |■ ■ □ □|     |□ □ □ ■|     |□ ■ □ □|     |■ ■ □ □| \n",
      "    |□ □ ■ ■|     |□ ■ □ ■|     |□ ■ ■ ■|     |■ ■ ■ □|     |■ □ ■ □| \n",
      "\n",
      "Division Into\n",
      " ∂b |□ □ □ □|  ∂Ξ |□ □ □ □|   ∇ |■ ■ □ ■|  ∇• |□ □ ■ □|  ∇x |□ □ □ □| \n",
      "    |■ □ ■ □|     |■ □ □ ■|     |□ ■ □ □|     |■ □ □ □|     |■ □ □ ■| \n",
      "    |■ □ □ ■|     |□ □ ■ ■|     |□ □ □ ■|     |□ ■ □ □|     |■ ■ □ □| \n",
      "    |■ ■ □ □|     |■ □ ■ □|     |□ ■ ■ ■|     |■ ■ ■ □|     |■ □ ■ □| \n",
      "\n",
      "Division By\n",
      " ∂b |□ ■ ■ ■|  ∂Ξ |■ □ □ □|   ∇ |□ ■ □ ■|  ∇• |□ ■ □ ■|  ∇x |□ ■ ■ ■| \n",
      "    |□ □ ■ □|     |■ ■ ■ □|     |□ □ ■ ■|     |□ □ □ □|     |□ □ □ ■| \n",
      "    |□ □ □ ■|     |□ ■ □ □|     |□ ■ ■ □|     |■ ■ □ □|     |□ ■ □ □| \n",
      "    |□ ■ □ □|     |■ ■ □ ■|     |□ □ □ □|     |□ ■ ■ □|     |□ □ ■ □| \n"
     ]
    }
   ],
   "source": [
    "print('Full Product')\n",
    "sign_distribution(full, metric=(-1, 1, 1, 1), allowed=ALLOWED)\n",
    "print('\\nDivision Into')\n",
    "sign_distribution(div_into, metric=(-1, 1, 1, 1), allowed=ALLOWED)\n",
    "print('\\nDivision By')\n",
    "sign_distribution(div_by, metric=(-1, 1, 1, 1), allowed=ALLOWED)"
   ]
  },
  {
   "cell_type": "markdown",
   "metadata": {},
   "source": [
    "### 0i +---"
   ]
  },
  {
   "cell_type": "code",
   "execution_count": 4,
   "metadata": {
    "collapsed": false
   },
   "outputs": [
    {
     "name": "stdout",
     "output_type": "stream",
     "text": [
      "Full Product\n",
      " ∂b |□ □ □ □|  ∂Ξ |□ □ □ □|   ∇ |□ □ ■ ■|  ∇• |■ ■ □ □|  ∇x |□ □ □ □| \n",
      "    |□ □ □ □|     |□ □ □ □|     |□ □ ■ ■|     |■ ■ □ □|     |□ □ □ □| \n",
      "    |□ ■ □ ■|     |■ □ ■ □|     |□ ■ ■ □|     |□ ■ ■ □|     |□ ■ □ ■| \n",
      "    |□ ■ □ ■|     |■ □ ■ □|     |□ ■ ■ □|     |□ ■ ■ □|     |□ ■ □ ■| \n",
      "\n",
      "Division Into\n",
      " ∂b |□ □ □ □|  ∂Ξ |□ □ □ □|   ∇ |■ ■ □ □|  ∇• |□ □ ■ ■|  ∇x |■ ■ ■ ■| \n",
      "    |□ □ □ □|     |□ □ □ □|     |■ ■ □ □|     |□ □ ■ ■|     |■ ■ ■ ■| \n",
      "    |□ ■ □ ■|     |■ □ ■ □|     |■ □ □ ■|     |■ □ □ ■|     |■ □ ■ □| \n",
      "    |■ □ ■ □|     |□ ■ □ ■|     |□ ■ ■ □|     |□ ■ ■ □|     |□ ■ □ ■| \n",
      "\n",
      "Division By\n",
      " ∂b |□ □ □ ■|  ∂Ξ |■ ■ ■ □|   ∇ |□ □ ■ □|  ∇• |□ □ ■ □|  ∇x |■ ■ ■ □| \n",
      "    |□ □ □ ■|     |■ ■ ■ □|     |□ □ ■ □|     |□ □ ■ □|     |■ ■ ■ □| \n",
      "    |□ ■ □ □|     |□ ■ □ □|     |□ ■ ■ ■|     |■ □ □ □|     |■ □ ■ ■| \n",
      "    |□ ■ □ □|     |□ ■ □ □|     |□ ■ ■ ■|     |■ □ □ □|     |■ □ ■ ■| \n"
     ]
    }
   ],
   "source": [
    "print('Full Product')\n",
    "sign_distribution(full, metric=(1, -1, -1, -1), allowed=ALLOWED_0i)\n",
    "print('\\nDivision Into')\n",
    "sign_distribution(div_into, metric=(1, -1, -1, -1), allowed=ALLOWED_0i)\n",
    "print('\\nDivision By')\n",
    "sign_distribution(div_by, metric=(1, -1, -1, -1), allowed=ALLOWED_0i)"
   ]
  },
  {
   "cell_type": "markdown",
   "metadata": {},
   "source": [
    "### 0i -+++"
   ]
  },
  {
   "cell_type": "code",
   "execution_count": 5,
   "metadata": {
    "collapsed": false
   },
   "outputs": [
    {
     "name": "stdout",
     "output_type": "stream",
     "text": [
      "Full Product\n",
      " ∂b |□ □ □ □|  ∂Ξ |□ □ □ □|   ∇ |□ □ ■ ■|  ∇• |■ ■ □ □|  ∇x |■ ■ ■ ■| \n",
      "    |□ ■ □ ■|     |□ ■ □ ■|     |□ ■ ■ □|     |■ □ □ ■|     |■ □ ■ □| \n",
      "    |□ ■ ■ □|     |■ □ □ ■|     |□ ■ □ ■|     |□ ■ □ ■|     |■ □ □ ■| \n",
      "    |□ □ ■ ■|     |■ ■ □ □|     |□ □ □ □|     |□ □ □ □|     |■ ■ □ □| \n",
      "\n",
      "Division Into\n",
      " ∂b |□ □ □ □|  ∂Ξ |□ □ □ □|   ∇ |■ ■ □ □|  ∇• |□ □ ■ ■|  ∇x |□ □ □ □| \n",
      "    |■ □ ■ □|     |■ □ ■ □|     |□ ■ ■ □|     |■ □ □ ■|     |■ □ ■ □| \n",
      "    |■ □ □ ■|     |□ ■ ■ □|     |□ ■ □ ■|     |□ ■ □ ■|     |■ □ □ ■| \n",
      "    |■ ■ □ □|     |□ □ ■ ■|     |□ □ □ □|     |□ □ □ □|     |■ ■ □ □| \n",
      "\n",
      "Division By\n",
      " ∂b |□ ■ ■ ■|  ∂Ξ |■ □ □ □|   ∇ |□ ■ □ □|  ∇• |□ ■ □ □|  ∇x |□ ■ ■ ■| \n",
      "    |□ □ ■ □|     |■ ■ □ ■|     |□ □ □ ■|     |□ □ □ ■|     |□ □ ■ □| \n",
      "    |□ □ □ ■|     |□ □ □ ■|     |□ □ ■ □|     |■ ■ □ ■|     |□ □ □ ■| \n",
      "    |□ ■ □ □|     |□ ■ □ □|     |□ ■ ■ ■|     |■ □ □ □|     |□ ■ □ □| \n"
     ]
    }
   ],
   "source": [
    "print('Full Product')\n",
    "sign_distribution(full, metric=(-1, 1, 1, 1), allowed=ALLOWED_0i)\n",
    "print('\\nDivision Into')\n",
    "sign_distribution(div_into, metric=(-1, 1, 1, 1), allowed=ALLOWED_0i)\n",
    "print('\\nDivision By')\n",
    "sign_distribution(div_by, metric=(-1, 1, 1, 1), allowed=ALLOWED_0i)"
   ]
  }
 ],
 "metadata": {
  "kernelspec": {
   "display_name": "Python 3",
   "language": "python",
   "name": "python3"
  },
  "language_info": {
   "codemirror_mode": {
    "name": "ipython",
    "version": 3
   },
   "file_extension": ".py",
   "mimetype": "text/x-python",
   "name": "python",
   "nbconvert_exporter": "python",
   "pygments_lexer": "ipython3",
   "version": "3.5.2"
  }
 },
 "nbformat": 4,
 "nbformat_minor": 1
}
