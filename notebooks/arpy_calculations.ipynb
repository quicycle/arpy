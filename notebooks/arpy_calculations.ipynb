{
 "cells": [
  {
   "cell_type": "markdown",
   "metadata": {},
   "source": [
    "# Calculating with arpy\n",
    "This notebook is intended as a demo of how to make use of the `arpy` module for calculating withing the framework of Absolute Relativity.\n",
    "\n",
    "![](readme_icon.png)"
   ]
  },
  {
   "cell_type": "code",
   "execution_count": 1,
   "metadata": {
    "collapsed": true
   },
   "outputs": [],
   "source": [
    "from arpy import *"
   ]
  },
  {
   "cell_type": "markdown",
   "metadata": {},
   "source": [
    "# Displaying the Cayley Table"
   ]
  },
  {
   "cell_type": "code",
   "execution_count": 2,
   "metadata": {
    "collapsed": false
   },
   "outputs": [
    {
     "name": "stdout",
     "output_type": "stream",
     "text": [
      "           B         A         T         E\n",
      "      +---------+---------+---------+---------+\n",
      "αp    | □ □ □ □ | □ □ □ □ | □ □ □ □ | □ □ □ □ |\n",
      "α23   | □ ■ □ ■ | □ ■ □ ■ | ■ □ □ ■ | □ ■ □ ■ |\n",
      "α31   | □ ■ ■ □ | □ ■ ■ □ | ■ ■ □ □ | □ ■ ■ □ |\n",
      "α12   | □ □ ■ ■ | □ □ ■ ■ | ■ □ ■ □ | □ □ ■ ■ |\n",
      "      +---------+---------+---------+---------+\n",
      "α0    | □ □ □ □ | □ □ □ □ | □ ■ ■ ■ | □ ■ ■ ■ |\n",
      "α023  | □ ■ □ ■ | □ ■ □ ■ | □ □ ■ □ | ■ ■ ■ □ |\n",
      "α031  | □ ■ ■ □ | □ ■ ■ □ | □ □ □ ■ | ■ □ ■ ■ |\n",
      "α012  | □ □ ■ ■ | □ □ ■ ■ | □ ■ □ □ | ■ ■ □ ■ |\n",
      "      +---------+---------+---------+---------+\n",
      "α123  | □ ■ ■ ■ | ■ ■ ■ ■ | □ ■ ■ ■ | ■ ■ ■ ■ |\n",
      "α1    | □ □ □ ■ | □ ■ □ ■ | ■ ■ □ ■ | □ ■ □ ■ |\n",
      "α2    | □ ■ □ □ | □ ■ ■ □ | ■ ■ ■ □ | □ ■ ■ □ |\n",
      "α3    | □ □ ■ □ | □ □ ■ ■ | ■ □ ■ ■ | □ □ ■ ■ |\n",
      "      +---------+---------+---------+---------+\n",
      "α0123 | □ □ □ □ | ■ □ □ □ | □ ■ ■ ■ | ■ ■ ■ ■ |\n",
      "α10   | □ ■ □ ■ | □ □ □ ■ | □ □ ■ □ | ■ □ ■ □ |\n",
      "α20   | □ ■ ■ □ | □ ■ □ □ | □ □ □ ■ | ■ □ □ ■ |\n",
      "α30   | □ □ ■ ■ | □ □ ■ □ | □ ■ □ □ | ■ ■ □ □ |\n",
      "      +---------+---------+---------+---------+\n"
     ]
    }
   ],
   "source": [
    "sign_cayley(full)"
   ]
  },
  {
   "cell_type": "markdown",
   "metadata": {},
   "source": [
    "### Simple Derivatives\n",
    "Results of basic derivatives can be displayed in component form or del notation, grouped onto the 3-vector alphas."
   ]
  },
  {
   "cell_type": "code",
   "execution_count": 3,
   "metadata": {
    "collapsed": false
   },
   "outputs": [
    {
     "data": {
      "text/plain": [
       "{\n",
       "  αp    (+∂00, +∂1ξ1, +∂2ξ2, +∂3ξ3)\n",
       "  α23   (+∂0ξ023, +∂1123, +∂3ξ2, -∂2ξ3)\n",
       "  α31   (+∂0ξ031, +∂2123, -∂3ξ1, +∂1ξ3)\n",
       "  α12   (+∂0ξ012, +∂3123, +∂2ξ1, -∂1ξ2)\n",
       "  α0    (+∂0p, +∂1ξ10, +∂2ξ20, +∂3ξ30)\n",
       "  α023  (+∂0ξ23, -∂10123, +∂3ξ20, -∂2ξ30)\n",
       "  α031  (+∂0ξ31, -∂20123, -∂3ξ10, +∂1ξ30)\n",
       "  α012  (+∂0ξ12, -∂30123, +∂2ξ10, -∂1ξ20)\n",
       "  α123  (-∂1ξ23, -∂2ξ31, -∂3ξ12, +∂00123)\n",
       "  α1    (-∂1p, +∂3ξ31, -∂2ξ12, -∂0ξ10)\n",
       "  α2    (-∂2p, -∂3ξ23, +∂1ξ12, -∂0ξ20)\n",
       "  α3    (-∂3p, +∂2ξ23, -∂1ξ31, -∂0ξ30)\n",
       "  α0123 (+∂1ξ023, +∂2ξ031, +∂3ξ012, +∂0123)\n",
       "  α10   (-∂10, +∂3ξ031, -∂2ξ012, -∂0ξ1)\n",
       "  α20   (-∂20, -∂3ξ023, +∂1ξ012, -∂0ξ2)\n",
       "  α30   (-∂30, +∂2ξ023, -∂1ξ031, -∂0ξ3)\n",
       "}"
      ]
     },
     "execution_count": 3,
     "metadata": {},
     "output_type": "execute_result"
    }
   ],
   "source": [
    "Dmu(XiG)"
   ]
  },
  {
   "cell_type": "code",
   "execution_count": 4,
   "metadata": {
    "collapsed": false
   },
   "outputs": [
    {
     "data": {
      "text/plain": [
       "{\n",
       "  α0    (+∂0Ξp, +∇•E)\n",
       "  α123  (+∂0Ξ0123, -∇•B)\n",
       "  αi    (-∂0E, -∇Ξp, -∇xB)\n",
       "  α0jk  (+∂0B, -∇Ξ0123, -∇xE)\n",
       "  αp    (+∂0Ξ0, +∇•A)\n",
       "  α0123 (+∂0Ξ123, +∇•T)\n",
       "  αi0   (-∂0A, -∇Ξ0, -∇xT)\n",
       "  αjk   (+∂0T, +∇Ξ123, -∇xA)\n",
       "}"
      ]
     },
     "execution_count": 4,
     "metadata": {},
     "output_type": "execute_result"
    }
   ],
   "source": [
    "Dmu(XiG, as_del=True)"
   ]
  },
  {
   "cell_type": "markdown",
   "metadata": {},
   "source": [
    "### Defining a MultiVector\n",
    "Symbolic MultiVectors can be constructed from a list of alpha indices to include. Here we define the Even Subgroup (root-mass like terms and the Electromagnetic fields) as F.\n",
    "\n",
    "By default you are provided with XiG, XiB, XiA, XiT and XiE."
   ]
  },
  {
   "cell_type": "code",
   "execution_count": 5,
   "metadata": {
    "collapsed": false
   },
   "outputs": [
    {
     "data": {
      "text/plain": [
       "{\n",
       "  αp    +p\n",
       "  α23   +ξ23\n",
       "  α31   +ξ31\n",
       "  α12   +ξ12\n",
       "  α0123 +0123\n",
       "  α10   +ξ10\n",
       "  α20   +ξ20\n",
       "  α30   +ξ30\n",
       "}"
      ]
     },
     "execution_count": 5,
     "metadata": {},
     "output_type": "execute_result"
    }
   ],
   "source": [
    "F = MultiVector(['p', '23', '31', '12', '0123', '10', '20', '30'])\n",
    "F"
   ]
  },
  {
   "cell_type": "markdown",
   "metadata": {},
   "source": [
    "### Defining a differential operator\n",
    "As with MultiVectors, operators can be defined by passing a list of indices.\n",
    "\n",
    "Here we define an operator DB that differentiates with respect to the B 4-Set (αp, α23, α31, α12) which we then apply to our previsouly defined MultiVector, F."
   ]
  },
  {
   "cell_type": "code",
   "execution_count": 6,
   "metadata": {
    "collapsed": false
   },
   "outputs": [
    {
     "name": "stdout",
     "output_type": "stream",
     "text": [
      "Normal use is again by passing a MultiVector to operate on:\n",
      "{\n",
      "  αp    (+∂pp, +∂23ξ23, +∂31ξ31, +∂12ξ12)\n",
      "  α23   (-∂23p, +∂pξ23, +∂12ξ31, -∂31ξ12)\n",
      "  α31   (-∂31p, -∂12ξ23, +∂pξ31, +∂23ξ12)\n",
      "  α12   (-∂12p, +∂31ξ23, -∂23ξ31, +∂pξ12)\n",
      "  α0123 (+∂p0123, +∂23ξ10, +∂31ξ20, +∂12ξ30)\n",
      "  α10   (-∂230123, +∂pξ10, +∂12ξ20, -∂31ξ30)\n",
      "  α20   (-∂310123, -∂12ξ10, +∂pξ20, +∂23ξ30)\n",
      "  α30   (-∂120123, +∂31ξ10, -∂23ξ20, +∂pξ30)\n",
      "}\n",
      "\n",
      "As with pre-defined operators, you can specify del notation if desired:\n",
      "{\n",
      "  αp    (+∂pΞp, +∇•B)\n",
      "  α0123 (+∂pΞ0123, +∇•E)\n",
      "  αi0   (+∂pE, -∇Ξ0123, -∇xE)\n",
      "  αjk   (+∂pB, -∇Ξp, -∇xB)\n",
      "}\n"
     ]
    }
   ],
   "source": [
    "DB = differential_operator(['p', '23', '31', '12'])\n",
    "\n",
    "print('Normal use is again by passing a MultiVector to operate on:')\n",
    "print(DB(F))\n",
    "\n",
    "print('\\nAs with pre-defined operators, you can specify del notation if desired:')\n",
    "print(DB(F, as_del=True))"
   ]
  },
  {
   "cell_type": "code",
   "execution_count": 7,
   "metadata": {
    "collapsed": false
   },
   "outputs": [
    {
     "name": "stdout",
     "output_type": "stream",
     "text": [
      "DA(XiG)\n",
      " {\n",
      "  α0    (-∂123Ξ0123, +∇•E)\n",
      "  α123  (+∂123Ξp, -∇•B)\n",
      "  αi    (-∂123B, -∇Ξp, -∇xB)\n",
      "  α0jk  (-∂123E, -∇Ξ0123, -∇xE)\n",
      "  αp    (+∂123Ξ123, +∇•A)\n",
      "  α0123 (-∂123Ξ0, +∇•T)\n",
      "  αi0   (-∂123T, -∇Ξ0, -∇xT)\n",
      "  αjk   (-∂123A, +∇Ξ123, -∇xA)\n",
      "}\n",
      "DT(XiG)\n",
      " {\n",
      "  α0    (+∂0Ξp, +∇•B)\n",
      "  α123  (+∂0Ξ0123, +∇•E)\n",
      "  αi    (-∂0E, +∇Ξ0123, +∇xE)\n",
      "  α0jk  (+∂0B, -∇Ξp, -∇xB)\n",
      "  αp    (+∂0Ξ0, +∇•T)\n",
      "  α0123 (+∂0Ξ123, -∇•A)\n",
      "  αi0   (-∂0A, -∇Ξ123, +∇xA)\n",
      "  αjk   (+∂0T, -∇Ξ0, -∇xT)\n",
      "}\n",
      "Dodd(XiG)\n",
      " {\n",
      "  α0    (+∂0Ξp, -∂123Ξ0123, +∇•B, +∇•E)\n",
      "  α123  (+∂0Ξ0123, +∂123Ξp, +∇•E, -∇•B)\n",
      "  αi    (-∂0E, -∂123B, +∇Ξ0123, +∇xE, -∇Ξp, -∇xB)\n",
      "  α0jk  (+∂0B, -∂123E, -∇Ξp, -∇xB, -∇Ξ0123, -∇xE)\n",
      "  αp    (+∂0Ξ0, +∂123Ξ123, +∇•T, +∇•A)\n",
      "  α0123 (+∂0Ξ123, -∂123Ξ0, -∇•A, +∇•T)\n",
      "  αi0   (-∂0A, -∂123T, -∇Ξ123, +∇xA, -∇Ξ0, -∇xT)\n",
      "  αjk   (+∂0T, -∂123A, -∇Ξ0, -∇xT, +∇Ξ123, -∇xA)\n",
      "}\n"
     ]
    }
   ],
   "source": [
    "DA = differential_operator('123 1 2 3'.split())\n",
    "DT = differential_operator('0 023 031 012'.split())\n",
    "Dodd = differential_operator('123 1 2 3 0 023 031 012'.split())\n",
    "\n",
    "print('DA(XiG)\\n', DA(XiG, as_del=True))\n",
    "print('DT(XiG)\\n', DT(XiG, as_del=True))\n",
    "print('Dodd(XiG)\\n', Dodd(XiG, as_del=True))"
   ]
  },
  {
   "cell_type": "markdown",
   "metadata": {},
   "source": [
    "# Working towards Force Equations\n",
    "The parsing of terms is not quite there yet but you _can_ compute things like F(DmuF) as follows:"
   ]
  },
  {
   "cell_type": "code",
   "execution_count": 8,
   "metadata": {
    "collapsed": false,
    "scrolled": false
   },
   "outputs": [
    {
     "name": "stdout",
     "output_type": "stream",
     "text": [
      "{\n",
      "  α0:\n",
      "    +p(+∂0p+∂1ξ10+∂2ξ20+∂3ξ30)\n",
      "    -ξ23(-∂0ξ23+∂10123-∂3ξ20+∂2ξ30)\n",
      "    -ξ31(-∂0ξ31+∂20123+∂3ξ10-∂1ξ30)\n",
      "    -ξ12(-∂0ξ12+∂30123-∂2ξ10+∂1ξ20)\n",
      "    +0123(-∂1ξ23-∂2ξ31-∂3ξ12+∂00123)\n",
      "    +ξ10(-∂1p+∂3ξ31-∂2ξ12-∂0ξ10)\n",
      "    +ξ20(-∂2p-∂3ξ23+∂1ξ12-∂0ξ20)\n",
      "    +ξ30(-∂3p+∂2ξ23-∂1ξ31-∂0ξ30)\n",
      "  α023:\n",
      "    +p(+∂0ξ23-∂10123+∂3ξ20-∂2ξ30)\n",
      "    +ξ23(+∂0p+∂1ξ10+∂2ξ20+∂3ξ30)\n",
      "    +ξ31(+∂0ξ12-∂30123+∂2ξ10-∂1ξ20)\n",
      "    -ξ12(-∂0ξ31+∂20123+∂3ξ10-∂1ξ30)\n",
      "    -0123(+∂1p-∂3ξ31+∂2ξ12+∂0ξ10)\n",
      "    +ξ10(-∂1ξ23-∂2ξ31-∂3ξ12+∂00123)\n",
      "    -ξ20(+∂3p-∂2ξ23+∂1ξ31+∂0ξ30)\n",
      "    +ξ30(-∂2p-∂3ξ23+∂1ξ12-∂0ξ20)\n",
      "  α031:\n",
      "    +p(+∂0ξ31-∂20123-∂3ξ10+∂1ξ30)\n",
      "    -ξ23(-∂0ξ12+∂30123-∂2ξ10+∂1ξ20)\n",
      "    +ξ31(+∂0p+∂1ξ10+∂2ξ20+∂3ξ30)\n",
      "    +ξ12(+∂0ξ23-∂10123+∂3ξ20-∂2ξ30)\n",
      "    -0123(+∂2p+∂3ξ23-∂1ξ12+∂0ξ20)\n",
      "    +ξ10(-∂3p+∂2ξ23-∂1ξ31-∂0ξ30)\n",
      "    +ξ20(-∂1ξ23-∂2ξ31-∂3ξ12+∂00123)\n",
      "    -ξ30(+∂1p-∂3ξ31+∂2ξ12+∂0ξ10)\n",
      "  α012:\n",
      "    +p(+∂0ξ12-∂30123+∂2ξ10-∂1ξ20)\n",
      "    +ξ23(+∂0ξ31-∂20123-∂3ξ10+∂1ξ30)\n",
      "    -ξ31(-∂0ξ23+∂10123-∂3ξ20+∂2ξ30)\n",
      "    +ξ12(+∂0p+∂1ξ10+∂2ξ20+∂3ξ30)\n",
      "    -0123(+∂3p-∂2ξ23+∂1ξ31+∂0ξ30)\n",
      "    -ξ10(+∂2p+∂3ξ23-∂1ξ12+∂0ξ20)\n",
      "    +ξ20(-∂1p+∂3ξ31-∂2ξ12-∂0ξ10)\n",
      "    +ξ30(-∂1ξ23-∂2ξ31-∂3ξ12+∂00123)\n",
      "  α123:\n",
      "    +p(-∂1ξ23-∂2ξ31-∂3ξ12+∂00123)\n",
      "    +ξ23(-∂1p+∂3ξ31-∂2ξ12-∂0ξ10)\n",
      "    +ξ31(-∂2p-∂3ξ23+∂1ξ12-∂0ξ20)\n",
      "    +ξ12(-∂3p+∂2ξ23-∂1ξ31-∂0ξ30)\n",
      "    -0123(-∂0p-∂1ξ10-∂2ξ20-∂3ξ30)\n",
      "    +ξ10(+∂0ξ23-∂10123+∂3ξ20-∂2ξ30)\n",
      "    +ξ20(+∂0ξ31-∂20123-∂3ξ10+∂1ξ30)\n",
      "    +ξ30(+∂0ξ12-∂30123+∂2ξ10-∂1ξ20)\n",
      "  α1:\n",
      "    +p(-∂1p+∂3ξ31-∂2ξ12-∂0ξ10)\n",
      "    -ξ23(+∂1ξ23+∂2ξ31+∂3ξ12-∂00123)\n",
      "    +ξ31(-∂3p+∂2ξ23-∂1ξ31-∂0ξ30)\n",
      "    -ξ12(+∂2p+∂3ξ23-∂1ξ12+∂0ξ20)\n",
      "    +0123(+∂0ξ23-∂10123+∂3ξ20-∂2ξ30)\n",
      "    +ξ10(+∂0p+∂1ξ10+∂2ξ20+∂3ξ30)\n",
      "    +ξ20(+∂0ξ12-∂30123+∂2ξ10-∂1ξ20)\n",
      "    -ξ30(-∂0ξ31+∂20123+∂3ξ10-∂1ξ30)\n",
      "  α2:\n",
      "    +p(-∂2p-∂3ξ23+∂1ξ12-∂0ξ20)\n",
      "    -ξ23(+∂3p-∂2ξ23+∂1ξ31+∂0ξ30)\n",
      "    -ξ31(+∂1ξ23+∂2ξ31+∂3ξ12-∂00123)\n",
      "    +ξ12(-∂1p+∂3ξ31-∂2ξ12-∂0ξ10)\n",
      "    +0123(+∂0ξ31-∂20123-∂3ξ10+∂1ξ30)\n",
      "    -ξ10(-∂0ξ12+∂30123-∂2ξ10+∂1ξ20)\n",
      "    +ξ20(+∂0p+∂1ξ10+∂2ξ20+∂3ξ30)\n",
      "    +ξ30(+∂0ξ23-∂10123+∂3ξ20-∂2ξ30)\n",
      "  α3:\n",
      "    +p(-∂3p+∂2ξ23-∂1ξ31-∂0ξ30)\n",
      "    +ξ23(-∂2p-∂3ξ23+∂1ξ12-∂0ξ20)\n",
      "    -ξ31(+∂1p-∂3ξ31+∂2ξ12+∂0ξ10)\n",
      "    -ξ12(+∂1ξ23+∂2ξ31+∂3ξ12-∂00123)\n",
      "    +0123(+∂0ξ12-∂30123+∂2ξ10-∂1ξ20)\n",
      "    +ξ10(+∂0ξ31-∂20123-∂3ξ10+∂1ξ30)\n",
      "    -ξ20(-∂0ξ23+∂10123-∂3ξ20+∂2ξ30)\n",
      "    +ξ30(+∂0p+∂1ξ10+∂2ξ20+∂3ξ30)\n",
      "}\n"
     ]
    }
   ],
   "source": [
    "prod_apply(F, Dmu, F).collected_terms()"
   ]
  },
  {
   "cell_type": "code",
   "execution_count": null,
   "metadata": {
    "collapsed": false
   },
   "outputs": [],
   "source": []
  }
 ],
 "metadata": {
  "kernelspec": {
   "display_name": "Python 3",
   "language": "python",
   "name": "python3"
  },
  "language_info": {
   "codemirror_mode": {
    "name": "ipython",
    "version": 3
   },
   "file_extension": ".py",
   "mimetype": "text/x-python",
   "name": "python",
   "nbconvert_exporter": "python",
   "pygments_lexer": "ipython3",
   "version": "3.5.2"
  }
 },
 "nbformat": 4,
 "nbformat_minor": 0
}
