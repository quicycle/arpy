{
 "cells": [
  {
   "cell_type": "markdown",
   "metadata": {},
   "source": [
    "_Innes D. Anderson-Morrison 2017_"
   ]
  },
  {
   "cell_type": "markdown",
   "metadata": {},
   "source": [
    "# 𝓓<sub>𝕊</sub>: the 4Set differential\n",
    "-----------------------------------------------\n",
    "\n",
    "<img src=\"../readme_icon.png\" alt=\"4-set_cayley\" style=\"width: 240px; float: right\"/>\n",
    "\n",
    "The 16 components of the algebra can be grouped into what I am calling _4-sets_ that consist of a 3-vector __{x,y,z}__ triplet (__𝔹__, __𝕋__, __𝔸__ and __𝔼__) paired with an additional element: __α<sub>p</sub>__, __α<sub>0</sub>__, __α<sub>123</sub>__ and __α<sub>0123</sub>__ respectively. From here on I will be referring to these four elements as __p__, __t__, __s__ and __q__ and the elements of each 3-vector as subscripts on their respective vector name: __α<sub>23</sub>__ as __B<sub>x</sub>__ for example, with the paired additional element with the subscript __b__ (for paired blade).\n",
    "\n",
    "Under this notation __𝔹__ = {__B<sub>b</sub>, B<sub>x</sub>, B<sub>y</sub>, B<sub>z</sub>__} = {__α<sub>p</sub>, α<sub>23</sub>, α<sub>31</sub>, α<sub>12</sub>__} and the general 4-set is denoted __𝕊__ = {__S<sub>b</sub>, S<sub>x</sub>, S<sub>y</sub>, S<sub>z</sub>__} in boldface with __S__ denoting the usual 3-vector elements.\n",
    "\n",
    "<br>\n",
    "A generalised 4-set differential can be defined for Cartesian coordinate as follows:\n",
    "\n",
    "## &ensp;&ensp;&ensp;&ensp;&ensp;&ensp;&ensp;&ensp;&ensp;&ensp;&ensp;&ensp; 𝓓<sub>𝕊</sub> = ∂/α<sub>μ</sub>∂<sub>𝕊μ</sub> &ensp;<sub>∀ μ ∈ {b, x, y, z}</sub>\n",
    "\n",
    "<br>\n",
    "Where the sign of each term is determined by the metric in use."
   ]
  },
  {
   "cell_type": "code",
   "execution_count": 1,
   "metadata": {
    "collapsed": false
   },
   "outputs": [
    {
     "name": "stdout",
     "output_type": "stream",
     "text": [
      "\n",
      "arpy version:  0.1.2\n",
      "\n",
      "Allowed αs:  αp, α23, α31, α12, α0, α023, α031, α012, α123, α1, α2, α3, α0123, α10, α20, α30\n",
      "\n",
      "Division:  into\n",
      "\n",
      "Metric:  +---\n"
     ]
    }
   ],
   "source": [
    "import arpy\n",
    "from arpy import *\n",
    "\n",
    "print('\\narpy version: ', arpy.__version__)\n",
    "print('\\nAllowed αs: ', ', '.join([str(Alpha(a)) for a in ALLOWED]))\n",
    "print('\\nDivision: ', DIVISION_TYPE)\n",
    "print('\\nMetric: ', ''.join(['+' if i == 1 else '-' for i in METRIC]))"
   ]
  },
  {
   "cell_type": "markdown",
   "metadata": {},
   "source": [
    "## Defining and using the operators within arpy\n",
    "\n",
    "As covered in the docs, the way to define a new operator fitting the pattern described above is to use the __differential_operator__ function. The list of α indices provided acts as the set of values that μ is allowed to take in the above definition.\n",
    "\n",
    "Here we define the four 4-set differentials: v<sub>B</sub>, 𝓓<sub>T</sub>, 𝓓<sub>A</sub> and 𝓓<sub>E</sub>."
   ]
  },
  {
   "cell_type": "code",
   "execution_count": 2,
   "metadata": {
    "collapsed": true
   },
   "outputs": [],
   "source": [
    "DB = differential_operator(['p', '23', '31', '12'])\n",
    "DT = differential_operator(['0', '023', '031', '012'])\n",
    "DA = differential_operator(['123', '1', '2', '3'])\n",
    "DE = differential_operator(['0123', '10', '20', '30'])"
   ]
  },
  {
   "cell_type": "markdown",
   "metadata": {},
   "source": [
    "The action of such a differential is to always produce _16 components_ that can be grouped into _5 vector calculus elements_."
   ]
  },
  {
   "cell_type": "code",
   "execution_count": 3,
   "metadata": {
    "collapsed": false
   },
   "outputs": [
    {
     "data": {
      "text/plain": [
       "{\n",
       "  α0    (∂ₚξ₀, ∂₂₃ξ₀₂₃, ∂₃₁ξ₀₃₁, ∂₁₂ξ₀₁₂)\n",
       "  α023  (-∂₂₃ξ₀, ∂ₚξ₀₂₃, ∂₁₂ξ₀₃₁, -∂₃₁ξ₀₁₂)\n",
       "  α031  (-∂₃₁ξ₀, -∂₁₂ξ₀₂₃, ∂ₚξ₀₃₁, ∂₂₃ξ₀₁₂)\n",
       "  α012  (-∂₁₂ξ₀, ∂₃₁ξ₀₂₃, -∂₂₃ξ₀₃₁, ∂ₚξ₀₁₂)\n",
       "}"
      ]
     },
     "execution_count": 3,
     "metadata": {},
     "output_type": "execute_result"
    }
   ],
   "source": [
    "DB(XiT)"
   ]
  },
  {
   "cell_type": "markdown",
   "metadata": {},
   "source": [
    "Note that when grouping into vector calculus [del notation](https://en.wikipedia.org/wiki/Del) I am using the symbol __∇<sup>𝕊</sup>__ to denote the standard 3-vector __∇__ operator with __{x, y, z}__ components being drawn from the 4-set 𝕊.\n",
    "\n",
    "### For 𝓓<sub>𝕊</sub>𝕊' we obtain:&ensp;&ensp; ∂<sub>b</sub>𝕊<sub>b</sub>' &ensp;&ensp; ∂<sub>b</sub>𝕊' &ensp;&ensp; ∇<sup>𝕊</sup> • 𝕊<sub>v</sub>' &ensp;&ensp; ∇<sup>𝕊</sup> 𝕊'<sub>b</sub> &ensp;&ensp; ∇<sup>𝕊</sup> x 𝕊<sub>v</sub>'"
   ]
  },
  {
   "cell_type": "code",
   "execution_count": 4,
   "metadata": {
    "collapsed": false
   },
   "outputs": [
    {
     "data": {
      "text/plain": [
       "{\n",
       "  α0123 (-∇ᵀ•A, ∂₀ξ₁₂₃)\n",
       "  αi0   (-∂₀A, -∇ᵀΞ₁₂₃, ∇ᵀxA)\n",
       "}"
      ]
     },
     "execution_count": 4,
     "metadata": {},
     "output_type": "execute_result"
    }
   ],
   "source": [
    "DT(XiA, as_del=True)"
   ]
  },
  {
   "cell_type": "markdown",
   "metadata": {},
   "source": [
    "## The 5 ∂<sub>b</sub> and ∇<sup>S</sup> terms\n",
    "\n",
    "<img src=\"../readme_icon.png\" alt=\"4-set_cayley\" style=\"width: 240px; float: left\"/>\n",
    "\n",
    "This diagram (also shown above) is a visualisation of the Cayley table for the algebra that does not take sign into account. As such, it applies to all product based operations between αs and by extenstion, between 4-sets. \n",
    "\n",
    "The colour of each cell denotes the resultant α value of the composition of the row α with the column α with αs in __B, T, A, E__ order: __αp, α23, α31, α12, α0, α023, α031, α012, α123, α1, α2, α3, α0123, α10, α20, α30__.\n",
    "\n",
    "When we compose one full 4-set with another we _always_ obtain a result that is shown in the diagram as a single colour 4x4 block with tone denoting __{b, x, y, z}__.\n",
    "\n",
    "As an example below,  we take the full product of the MultiVectors __A__ and __T__ (red and purple respectively in the diagram) and obtain αs from __E__ (green in the diagram)."
   ]
  },
  {
   "cell_type": "code",
   "execution_count": 5,
   "metadata": {
    "collapsed": false
   },
   "outputs": [
    {
     "data": {
      "text/plain": [
       "{\n",
       "  α0123 (-ξ₁₂₃ξ₀, -ξ₁ξ₀₂₃, -ξ₂ξ₀₃₁, -ξ₃ξ₀₁₂)\n",
       "  α10   (-ξ₁₂₃ξ₀₂₃, ξ₁ξ₀, ξ₂ξ₀₁₂, -ξ₃ξ₀₃₁)\n",
       "  α20   (-ξ₁₂₃ξ₀₃₁, -ξ₁ξ₀₁₂, ξ₂ξ₀, ξ₃ξ₀₂₃)\n",
       "  α30   (-ξ₁₂₃ξ₀₁₂, ξ₁ξ₀₃₁, -ξ₂ξ₀₂₃, ξ₃ξ₀)\n",
       "}"
      ]
     },
     "execution_count": 5,
     "metadata": {},
     "output_type": "execute_result"
    }
   ],
   "source": [
    "ar('XiA ^ XiT')"
   ]
  },
  {
   "cell_type": "markdown",
   "metadata": {},
   "source": [
    "In fact, the four 4-sets form a group under _full-product-like_ composition (identifying divison as a full-product of one term with the inverse of another) with the Magnetic 4-set __𝔹__ as the identity:\n",
    "\n",
    "```\n",
    "x | B T A E\n",
    "————————————\n",
    "B | B T A E\n",
    "T | T B E A\n",
    "A | A E B T\n",
    "E | E A T B\n",
    "```\n",
    "\n",
    "The group formed is isomorphic to the [Klein four-group](https://en.wikipedia.org/wiki/Klein_four-group) which has the [group presentation](https://en.wikipedia.org/wiki/Presentation_of_a_group): __< a, b | a<sup>2</sup> = b<sup>2</sup> = (ab)<sup>2</sup> = I >__\n",
    "\n",
    "(It should also be noted that the internal structor of each 4-set is also isomorphic to the Klein four-group.)\n",
    "\n",
    "The general sign distribution of the algebra of course changes with respect to the operation being used, the metric and the choice of ordering for the elements of grade 2 and above. In practice, only the components of the electric field may be varied between __i0__ and __0i__.\n",
    "\n",
    "The following table shows the sign of each resulting component under full-product."
   ]
  },
  {
   "cell_type": "markdown",
   "metadata": {},
   "source": [
    "### full product i0 +---"
   ]
  },
  {
   "cell_type": "code",
   "execution_count": 6,
   "metadata": {
    "collapsed": false
   },
   "outputs": [
    {
     "name": "stdout",
     "output_type": "stream",
     "text": [
      "           B         A         T         E\n",
      "      +---------+---------+---------+---------+\n",
      "αp    | □ □ □ □ | □ □ □ □ | □ □ □ □ | □ □ □ □ |\n",
      "α23   | □ ■ □ ■ | □ ■ □ ■ | ■ □ □ ■ | □ ■ □ ■ |\n",
      "α31   | □ ■ ■ □ | □ ■ ■ □ | ■ ■ □ □ | □ ■ ■ □ |\n",
      "α12   | □ □ ■ ■ | □ □ ■ ■ | ■ □ ■ □ | □ □ ■ ■ |\n",
      "      +---------+---------+---------+---------+\n",
      "α0    | □ □ □ □ | □ □ □ □ | □ ■ ■ ■ | □ ■ ■ ■ |\n",
      "α023  | □ ■ □ ■ | □ ■ □ ■ | □ □ ■ □ | ■ ■ ■ □ |\n",
      "α031  | □ ■ ■ □ | □ ■ ■ □ | □ □ □ ■ | ■ □ ■ ■ |\n",
      "α012  | □ □ ■ ■ | □ □ ■ ■ | □ ■ □ □ | ■ ■ □ ■ |\n",
      "      +---------+---------+---------+---------+\n",
      "α123  | □ ■ ■ ■ | ■ ■ ■ ■ | □ ■ ■ ■ | ■ ■ ■ ■ |\n",
      "α1    | □ □ □ ■ | □ ■ □ ■ | ■ ■ □ ■ | □ ■ □ ■ |\n",
      "α2    | □ ■ □ □ | □ ■ ■ □ | ■ ■ ■ □ | □ ■ ■ □ |\n",
      "α3    | □ □ ■ □ | □ □ ■ ■ | ■ □ ■ ■ | □ □ ■ ■ |\n",
      "      +---------+---------+---------+---------+\n",
      "α0123 | □ □ □ □ | ■ □ □ □ | □ ■ ■ ■ | ■ ■ ■ ■ |\n",
      "α10   | □ ■ □ ■ | □ □ □ ■ | □ □ ■ □ | ■ □ ■ □ |\n",
      "α20   | □ ■ ■ □ | □ ■ □ □ | □ □ □ ■ | ■ □ □ ■ |\n",
      "α30   | □ □ ■ ■ | □ □ ■ □ | □ ■ □ □ | ■ ■ □ □ |\n",
      "      +---------+---------+---------+---------+\n"
     ]
    }
   ],
   "source": [
    "sign_cayley(full)"
   ]
  },
  {
   "cell_type": "markdown",
   "metadata": {},
   "source": [
    "Alternatively, the __sign_distribution__ function can be used to look at what happens to each of the 5 groups of components under different setups. This also allows for specification of different metrics and allowed αs.\n",
    "<br><br>"
   ]
  },
  {
   "cell_type": "markdown",
   "metadata": {},
   "source": [
    "### full product i0 -+++"
   ]
  },
  {
   "cell_type": "code",
   "execution_count": 7,
   "metadata": {
    "collapsed": false,
    "scrolled": false
   },
   "outputs": [
    {
     "name": "stdout",
     "output_type": "stream",
     "text": [
      " ∂b |□ □ □ □|  ∂Ξ |□ □ □ □|   ∇ |□ □ ■ □|  ∇• |■ ■ □ ■|  ∇x |■ ■ ■ ■| \n",
      "    |□ ■ □ ■|     |□ ■ ■ □|     |□ ■ □ □|     |■ □ □ □|     |■ □ □ ■| \n",
      "    |□ ■ ■ □|     |■ ■ □ □|     |□ □ □ ■|     |□ ■ □ □|     |■ ■ □ □| \n",
      "    |□ □ ■ ■|     |□ ■ □ ■|     |□ ■ ■ ■|     |■ ■ ■ □|     |■ □ ■ □| \n"
     ]
    }
   ],
   "source": [
    "sign_distribution(full, metric=(-1, 1, 1, 1))"
   ]
  },
  {
   "cell_type": "markdown",
   "metadata": {},
   "source": [
    "### full product 0i +---"
   ]
  },
  {
   "cell_type": "code",
   "execution_count": 8,
   "metadata": {
    "collapsed": false
   },
   "outputs": [
    {
     "name": "stdout",
     "output_type": "stream",
     "text": [
      " ∂b |□ □ □ □|  ∂Ξ |□ □ □ □|   ∇ |□ □ ■ ■|  ∇• |■ ■ □ □|  ∇x |□ □ □ □| \n",
      "    |□ □ □ □|     |□ □ □ □|     |□ □ ■ ■|     |■ ■ □ □|     |□ □ □ □| \n",
      "    |□ ■ □ ■|     |■ □ ■ □|     |□ ■ ■ □|     |□ ■ ■ □|     |□ ■ □ ■| \n",
      "    |□ ■ □ ■|     |■ □ ■ □|     |□ ■ ■ □|     |□ ■ ■ □|     |□ ■ □ ■| \n"
     ]
    }
   ],
   "source": [
    "oi = ['p', '23', '31', '12', '0', '023', '031', '012', '123', '1', '2', '3', '0123', '01', '02', '03']\n",
    "sign_distribution(full, allowed=oi)"
   ]
  },
  {
   "cell_type": "markdown",
   "metadata": {},
   "source": [
    "## Generalised Force equations: 𝕊𝓓<sub>𝕊</sub>𝕊\n",
    "---------------------------------------------------\n",
    "As discussed in [Dr Williamson's paper](http://eprints.gla.ac.uk/110966/), the generalised [Lorentz Force](https://en.wikipedia.org/wiki/Lorentz_force) _may_ be obtained by computing the full-product of F (the even subgroup of the 𝔾 which is equal to B + E) with its space-time derivative 𝓓<sub>μ</sub>F:\n",
    "\n",
    "### &ensp;&ensp;&ensp;&ensp;Force = F𝓓<sub>μ</sub>F\n",
    "\n",
    "I say _may_ as we are currently unsure as to whether this is the correct equation (which is the entire point of this notebook!) so we are looking into alternatives such as 𝓓<sub>μ</sub>FF, 𝓓<sub>μ</sub>(FF<sup>†</sup>), 𝓓<sub>μ</sub>(𝔾𝔾<sup>†</sup>) etc. I feel that it may be worthwhile looking at a generalisation of __F𝓓<sub>μ</sub>F__ namely __𝕊𝓓<sub>𝕊</sub>𝕊__ where each of the three __𝕊__ terms may be any 4-set.\n",
    "\n",
    "## The simplest case to consider is that of 𝔹𝓓<sub>𝔹</sub>𝔹\n",
    "\n",
    "As 𝔹 is the group identity it is self contained under composition with all elements of 𝓓<sub>𝔹</sub>𝔹 remaining within 𝔹 and all elements of the product 𝔹𝓓<sub>𝔹</sub>𝔹 also remaining within 𝔹. (_This can be seen from the leading diagonal of the Cayley table shown before: the composition of any 4-set with itself results in 𝔹-terms._)\n",
    "\n",
    "Below I show the result of computing this product along with a partial simplification that is possible under the current version of arpy:"
   ]
  },
  {
   "cell_type": "code",
   "execution_count": 9,
   "metadata": {
    "collapsed": false
   },
   "outputs": [
    {
     "data": {
      "text/plain": [
       "{\n",
       "  αp    (∇ᴮ•B, ∂ₚξₚ)\n",
       "  αjk   (∂ₚB, -∇ᴮΞₚ, -∇ᴮxB)\n",
       "}"
      ]
     },
     "execution_count": 9,
     "metadata": {},
     "output_type": "execute_result"
    }
   ],
   "source": [
    "DBB = DB(XiB)\n",
    "DB(XiB, as_del=True)"
   ]
  },
  {
   "cell_type": "code",
   "execution_count": 10,
   "metadata": {
    "collapsed": false
   },
   "outputs": [
    {
     "name": "stdout",
     "output_type": "stream",
     "text": [
      "64 terms:\n"
     ]
    }
   ],
   "source": [
    "BDBB = ar('XiB ^ DBB')\n",
    "print('{} terms:'.format(len([term for term in BDBB])))"
   ]
  },
  {
   "cell_type": "markdown",
   "metadata": {},
   "source": [
    "```\n",
    "αₚ:\n",
    "    ξₚ ( ∂ₚξₚ + ∂₂₃ξ₂₃ + ∂₃₁ξ₃₁ + ∂₁₂ξ₁₂ )\n",
    "    + ξ₂₃( ∂₂₃ξₚ - ∂ₚξ₂₃ - ∂₁₂ξ₃₁ + ∂₃₁ξ₁₂ )\n",
    "    + ξ₃₁( ∂₃₁ξₚ + ∂₁₂ξ₂₃ - ∂ₚξ₃₁ - ∂₂₃ξ₁₂ )\n",
    "    + ξ₁₂( ∂₁₂ξₚ - ∂₃₁ξ₂₃ + ∂₂₃ξ₃₁ - ∂ₚξ₁₂ )\n",
    "\n",
    "α₂₃:\n",
    "    ξₚ( ∂₂₃ξₚ + ∂ₚξ₂₃ + ∂₁₂ξ₃₁ + ∂₃₁ξ₁₂ )\n",
    "    + ξ₂₃( ∂ₚξₚ + ∂₂₃ξ₂₃ + ∂₃₁ξ₃₁ + ∂₁₂ξ₁₂ )\n",
    "    + ξ₃₁( ∂₁₂ξₚ + ∂₃₁ξ₂₃ + ∂₂₃ξ₃₁ + ∂ₚξ₁₂ )\n",
    "    + ξ₁₂( ∂₃₁ξₚ + ∂₁₂ξ₂₃ - ∂ₚξ₃₁ - ∂₂₃ξ₁₂ )\n",
    "\n",
    "α₃₁:\n",
    "    ξₚ( ∂₃₁ξₚ + ∂₁₂ξ₂₃ + ∂ₚξ₃₁ + ∂₂₃ξ₁₂ )\n",
    "    + ξ₂₃( ∂₁₂ξₚ - ∂₃₁ξ₂₃ + ∂₂₃ξ₃₁ - ∂ₚξ₁₂ )\n",
    "    + ξ₃₁( ∂ₚξₚ + ∂₂₃ξ₂₃ + ∂₃₁ξ₃₁ + ∂₁₂ξ₁₂ )\n",
    "    + ξ₁₂( ∂₂₃ξₚ + ∂ₚξ₂₃ + ∂₁₂ξ₃₁ + ∂₃₁ξ₁₂ )\n",
    "\n",
    "α₁₂:\n",
    "    ξₚ( ∂₁₂ξₚ + ∂₃₁ξ₂₃ + ∂₂₃ξ₃₁ + ∂ₚξ₁₂ )\n",
    "    + ξ₂₃( ∂₃₁ξₚ + ∂₁₂ξ₂₃ + ∂ₚξ₃₁ + ∂₂₃ξ₁₂ )\n",
    "    + ξ₃₁( ∂₂₃ξₚ - ∂ₚξ₂₃ - ∂₁₂ξ₃₁ + ∂₃₁ξ₁₂ )\n",
    "    + ξ₁₂( ∂ₚξₚ + ∂₂₃ξ₂₃ + ∂₃₁ξ₃₁ + ∂₁₂ξ₁₂ )\n",
    "```"
   ]
  },
  {
   "cell_type": "markdown",
   "metadata": {},
   "source": [
    "### Or, in _partially_ simplified notation we have this:\n",
    "\n",
    "_Note: further automated simplification is planned but this requires simplification of product terms accross common factors in addition to settling on the notation to use for some of the new grouped elements that have been identified. (See the next section for more details)_"
   ]
  },
  {
   "cell_type": "code",
   "execution_count": 11,
   "metadata": {
    "collapsed": false,
    "scrolled": true
   },
   "outputs": [
    {
     "name": "stdout",
     "output_type": "stream",
     "text": [
      "{\n",
      "  αjk:\n",
      "      ξₚ[∂ₚB, -∇ᴮΞₚ, -∇ᴮxB]\n",
      "  α23:\n",
      "      ξ₂₃[∇ᴮ•B, ∂ₚξₚ, -∂₁₂ξₚ, ∂₃₁ξ₂₃, -∂₂₃ξ₃₁, ∂ₚξ₁₂, -∂₃₁ξₚ, -∂₁₂ξ₂₃, ∂ₚξ₃₁, ∂₂₃ξ₁₂]\n",
      "  α31:\n",
      "      ξ₃₁[∇ᴮ•B, -∂₁₂ξₚ, ∂₃₁ξ₂₃, -∂₂₃ξ₃₁, ∂ₚξ₁₂, ∂ₚξₚ, -∂₂₃ξₚ, ∂ₚξ₂₃, ∂₁₂ξ₃₁, -∂₃₁ξ₁₂]\n",
      "  α12:\n",
      "      ξ₁₂[∇ᴮ•B, -∂₃₁ξₚ, -∂₁₂ξ₂₃, ∂ₚξ₃₁, ∂₂₃ξ₁₂, -∂₂₃ξₚ, ∂ₚξ₂₃, ∂₁₂ξ₃₁, -∂₃₁ξ₁₂, ∂ₚξₚ]\n",
      "  αp:\n",
      "      ξₚ[∇ᴮ•B, ∂ₚξₚ]\n",
      "      ξ₂₃[-∂₂₃ξₚ, ∂ₚξ₂₃, ∂₁₂ξ₃₁, -∂₃₁ξ₁₂]\n",
      "      ξ₃₁[-∂₃₁ξₚ, -∂₁₂ξ₂₃, ∂ₚξ₃₁, ∂₂₃ξ₁₂]\n",
      "      ξ₁₂[-∂₁₂ξₚ, ∂₃₁ξ₂₃, -∂₂₃ξ₃₁, ∂ₚξ₁₂]\n",
      "}\n"
     ]
    }
   ],
   "source": [
    "BDBB.simplified()"
   ]
  },
  {
   "cell_type": "markdown",
   "metadata": {},
   "source": [
    "### Simplifying further by hand I obtain the following:\n",
    "\n",
    "_Note: in the following expressions μνλ run over 𝔹<sub>x,y,z</sub> (α<sub>23</sub>, α<sub>31</sub>, α<sub>12</sub>) in cyclic left to right order . There are some terms using this notation that I think may be grouped onto α<sub>jk</sub> in a similar way to Curl._\n",
    "<br>\n",
    "\n",
    "𝔹𝓓<sub>𝔹</sub>𝔹 = \n",
    "<br>\n",
    "&ensp;&ensp;{\n",
    "\n",
    "&ensp;&ensp;&ensp;&ensp;α<sub>p</sub>: P∂<sub>p</sub>P + P∇<sup>B</sup>B + B∇<sup>B</sup>P - B•∂<sub>p</sub>B + B<sub>μ</sub>(∂<sub>λ</sub>B<sub>μ</sub> - ∂<sub>ν</sub>B<sub>λ</sub>)\n",
    "\n",
    "&ensp;&ensp;&ensp;&ensp;α<sub>jk</sub>: P∂<sub>p</sub>B + P∇<sup>B</sup>P + P∂<sub>p</sub>P + B•∇<sup>B</sup>B\n",
    "\n",
    "&ensp;&ensp;&ensp;&ensp;α<sub>μ</sub>: P(∂<sub>jkλ</sub>B<sub>ν</sub> + ∂<sub>jkν</sub>B<sub>λ</sub>) + B<sub>λ</sub>∂<sub>ν</sub>P + B<sub>ν</sub>∂<sub>ν</sub>Β<sub>μ</sub> + (B<sub>ν</sub>∂<sub>μ</sub>Β<sub>ν</sub> - B<sub>λ</sub>∂<sub>μ</sub>Β<sub>λ</sub>) + (B<sub>ν</sub>∂<sub>p</sub>Β<sub>λ</sub> - B<sub>λ</sub>∂<sub>p</sub>Β<sub>ν</sub>)\n",
    "\n",
    "&ensp;&ensp;}"
   ]
  },
  {
   "cell_type": "markdown",
   "metadata": {},
   "source": [
    "Each of the α<sub>μ</sub> terms could be included in the α<sub>jk</sub> group if we can come up with a name for what that operation _means_. I'm not 100% confident that each of those groups will ammount to a Physical description of something (in the way that Div, Grad and Curl do) but it may be worth further investigation. At the very least, it allows for a more compact representation of the result.\n",
    "\n",
    "It is easy to see that we have a similar distribution of grouped elements (four 6-component Curl like terms for example) but that the original grouped term structure is not preserved. I think that this collection of terms can be generalised to the 𝕊𝓓<sub>𝕊</sub>𝕊 case modulo sign which will depend on the metric in use."
   ]
  }
 ],
 "metadata": {
  "kernelspec": {
   "display_name": "Python 3",
   "language": "python",
   "name": "python3"
  },
  "language_info": {
   "codemirror_mode": {
    "name": "ipython",
    "version": 3
   },
   "file_extension": ".py",
   "mimetype": "text/x-python",
   "name": "python",
   "nbconvert_exporter": "python",
   "pygments_lexer": "ipython3",
   "version": "3.5.2"
  }
 },
 "nbformat": 4,
 "nbformat_minor": 1
}
